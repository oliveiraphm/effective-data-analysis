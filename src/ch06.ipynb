{
 "cells": [
  {
   "cell_type": "markdown",
   "id": "2bc2fc25",
   "metadata": {},
   "source": [
    "6.3.1"
   ]
  },
  {
   "cell_type": "code",
   "execution_count": 1,
   "id": "0390f7d2",
   "metadata": {},
   "outputs": [
    {
     "name": "stdout",
     "output_type": "stream",
     "text": [
      "            high_temp  low_temp  humidity  wind_speed    precip\n",
      "high_temp    1.000000  0.962917  0.151777   -0.231311 -0.036839\n",
      "low_temp     0.962917  1.000000  0.177102   -0.260153 -0.026765\n",
      "humidity     0.151777  0.177102  1.000000    0.029353  0.233285\n",
      "wind_speed  -0.231311 -0.260153  0.029353    1.000000  0.212698\n",
      "precip      -0.036839 -0.026765  0.233285    0.212698  1.000000\n"
     ]
    }
   ],
   "source": [
    "import pandas as pd\n",
    "import numpy as np\n",
    "\n",
    "weather = pd.read_csv(\"../datasets/weather.csv\")\n",
    "weather_corr = weather.select_dtypes(include='number').corr()\n",
    "print(weather_corr)"
   ]
  },
  {
   "cell_type": "code",
   "execution_count": 2,
   "id": "9631eb56",
   "metadata": {},
   "outputs": [
    {
     "name": "stdout",
     "output_type": "stream",
     "text": [
      "(np.float64(0.5446867046720659), array([0.501, 0.586]))\n"
     ]
    }
   ],
   "source": [
    "import pingouin as pg\n",
    "\n",
    "cr_alpha = pg.cronbach_alpha(data=weather.drop('day', axis=1))\n",
    "print(cr_alpha)"
   ]
  },
  {
   "cell_type": "code",
   "execution_count": null,
   "id": "7518e344",
   "metadata": {},
   "outputs": [],
   "source": []
  }
 ],
 "metadata": {
  "kernelspec": {
   "display_name": ".venv",
   "language": "python",
   "name": "python3"
  },
  "language_info": {
   "codemirror_mode": {
    "name": "ipython",
    "version": 3
   },
   "file_extension": ".py",
   "mimetype": "text/x-python",
   "name": "python",
   "nbconvert_exporter": "python",
   "pygments_lexer": "ipython3",
   "version": "3.13.2"
  }
 },
 "nbformat": 4,
 "nbformat_minor": 5
}
