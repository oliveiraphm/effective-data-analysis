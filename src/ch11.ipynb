{
 "cells": [
  {
   "cell_type": "markdown",
   "id": "45acca4c",
   "metadata": {},
   "source": [
    "11.2.2"
   ]
  },
  {
   "cell_type": "code",
   "execution_count": 1,
   "id": "b3ef5754",
   "metadata": {},
   "outputs": [
    {
     "name": "stdout",
     "output_type": "stream",
     "text": [
      "Tests passed.\n"
     ]
    }
   ],
   "source": [
    "import numpy as np\n",
    "import pandas as pd\n",
    "from datetime import datetime, timedelta\n",
    "import pytest\n",
    "\n",
    "daily_forecast = pd.read_csv(\"../datasets/daily_forecast.csv\")\n",
    "\n",
    "def test_unique_rows():\n",
    "    list_size = len(daily_forecast[\"date\"].tolist())\n",
    "    set_size  = len(set(daily_forecast[\"date\"].tolist()))\n",
    "    assert list_size == set_size, \"At least one non-unique date found\"\n",
    "\n",
    "def test_humidity_range():\n",
    "    assert np.all(\n",
    "        (daily_forecast[\"humidity\"] >= 0)\n",
    "        & (daily_forecast[\"humidity\"] <= 100)\n",
    "    ), \"Humidity out of range.\"\n",
    "\n",
    "def test_wind_speed_positive():\n",
    "    assert np.all(\n",
    "        daily_forecast[\"wind_speed\"] >= 0\n",
    "    ), \"Negative wind speed found.\"\n",
    "\n",
    "def test_no_missing_values():\n",
    "    assert (\n",
    "        not daily_forecast.isnull().values.any()\n",
    "    ), \"Missing values present.\"\n",
    "\n",
    "test_unique_rows()\n",
    "test_humidity_range()\n",
    "test_wind_speed_positive()\n",
    "test_no_missing_values()\n",
    "\n",
    "print(\"Tests passed.\") "
   ]
  },
  {
   "cell_type": "code",
   "execution_count": null,
   "id": "3f891658",
   "metadata": {},
   "outputs": [],
   "source": []
  }
 ],
 "metadata": {
  "kernelspec": {
   "display_name": ".venv",
   "language": "python",
   "name": "python3"
  },
  "language_info": {
   "codemirror_mode": {
    "name": "ipython",
    "version": 3
   },
   "file_extension": ".py",
   "mimetype": "text/x-python",
   "name": "python",
   "nbconvert_exporter": "python",
   "pygments_lexer": "ipython3",
   "version": "3.13.2"
  }
 },
 "nbformat": 4,
 "nbformat_minor": 5
}
