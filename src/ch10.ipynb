{
 "cells": [
  {
   "cell_type": "markdown",
   "id": "36706475",
   "metadata": {},
   "source": [
    "10.1.1"
   ]
  },
  {
   "cell_type": "code",
   "execution_count": 1,
   "id": "5ce579cc",
   "metadata": {},
   "outputs": [
    {
     "name": "stdout",
     "output_type": "stream",
     "text": [
      "<Response [200]>\n"
     ]
    }
   ],
   "source": [
    "import requests\n",
    "import json\n",
    "\n",
    "url = \"https://api.weather.gov/gridpoints/OKX/34,36/forecast\"\n",
    "response = requests.get(url)\n",
    "print(response)"
   ]
  },
  {
   "cell_type": "code",
   "execution_count": 2,
   "id": "092bb8e1",
   "metadata": {},
   "outputs": [
    {
     "name": "stdout",
     "output_type": "stream",
     "text": [
      "dict_keys(['@context', 'type', 'geometry', 'properties'])\n"
     ]
    }
   ],
   "source": [
    "forecast = response.json()\n",
    "print(forecast.keys())"
   ]
  },
  {
   "cell_type": "code",
   "execution_count": 3,
   "id": "70663b4f",
   "metadata": {},
   "outputs": [
    {
     "name": "stdout",
     "output_type": "stream",
     "text": [
      "[{'number': 1, 'name': 'Memorial Day', 'startTime': '2025-05-26T13:00:00-04:00', 'endTime': '2025-05-26T18:00:00-04:00', 'isDaytime': True, 'temperature': 73, 'temperatureUnit': 'F', 'temperatureTrend': '', 'probabilityOfPrecipitation': {'unitCode': 'wmoUnit:percent', 'value': 2}, 'windSpeed': '5 mph', 'windDirection': 'NE', 'icon': 'https://api.weather.gov/icons/land/day/sct?size=medium', 'shortForecast': 'Mostly Sunny', 'detailedForecast': 'Mostly sunny. High near 73, with temperatures falling to around 71 in the afternoon. Northeast wind around 5 mph.'}, {'number': 2, 'name': 'Tonight', 'startTime': '2025-05-26T18:00:00-04:00', 'endTime': '2025-05-27T06:00:00-04:00', 'isDaytime': False, 'temperature': 56, 'temperatureUnit': 'F', 'temperatureTrend': '', 'probabilityOfPrecipitation': {'unitCode': 'wmoUnit:percent', 'value': 2}, 'windSpeed': '3 mph', 'windDirection': 'SW', 'icon': 'https://api.weather.gov/icons/land/night/sct?size=medium', 'shortForecast': 'Partly Cloudy', 'detailedForecast': 'Partly cloudy, with a low around 56. Southwest wind around 3 mph.'}, {'number': 3, 'name': 'Tuesday', 'startTime': '2025-05-27T06:00:00-04:00', 'endTime': '2025-05-27T18:00:00-04:00', 'isDaytime': True, 'temperature': 74, 'temperatureUnit': 'F', 'temperatureTrend': '', 'probabilityOfPrecipitation': {'unitCode': 'wmoUnit:percent', 'value': 1}, 'windSpeed': '2 to 9 mph', 'windDirection': 'E', 'icon': 'https://api.weather.gov/icons/land/day/bkn?size=medium', 'shortForecast': 'Partly Sunny', 'detailedForecast': 'Partly sunny. High near 74, with temperatures falling to around 71 in the afternoon. East wind 2 to 9 mph.'}, {'number': 4, 'name': 'Tuesday Night', 'startTime': '2025-05-27T18:00:00-04:00', 'endTime': '2025-05-28T06:00:00-04:00', 'isDaytime': False, 'temperature': 57, 'temperatureUnit': 'F', 'temperatureTrend': '', 'probabilityOfPrecipitation': {'unitCode': 'wmoUnit:percent', 'value': 4}, 'windSpeed': '3 to 9 mph', 'windDirection': 'S', 'icon': 'https://api.weather.gov/icons/land/night/ovc?size=medium', 'shortForecast': 'Cloudy', 'detailedForecast': 'Cloudy, with a low around 57. South wind 3 to 9 mph.'}, {'number': 5, 'name': 'Wednesday', 'startTime': '2025-05-28T06:00:00-04:00', 'endTime': '2025-05-28T18:00:00-04:00', 'isDaytime': True, 'temperature': 65, 'temperatureUnit': 'F', 'temperatureTrend': '', 'probabilityOfPrecipitation': {'unitCode': 'wmoUnit:percent', 'value': 37}, 'windSpeed': '3 to 10 mph', 'windDirection': 'SE', 'icon': 'https://api.weather.gov/icons/land/day/rain_showers,20/rain_showers,40?size=medium', 'shortForecast': 'Chance Rain Showers', 'detailedForecast': 'A chance of rain showers after 8am. Cloudy. High near 65, with temperatures falling to around 63 in the afternoon. Southeast wind 3 to 10 mph. Chance of precipitation is 40%. New rainfall amounts between a tenth and quarter of an inch possible.'}, {'number': 6, 'name': 'Wednesday Night', 'startTime': '2025-05-28T18:00:00-04:00', 'endTime': '2025-05-29T06:00:00-04:00', 'isDaytime': False, 'temperature': 58, 'temperatureUnit': 'F', 'temperatureTrend': '', 'probabilityOfPrecipitation': {'unitCode': 'wmoUnit:percent', 'value': 62}, 'windSpeed': '7 to 10 mph', 'windDirection': 'E', 'icon': 'https://api.weather.gov/icons/land/night/rain_showers,60?size=medium', 'shortForecast': 'Rain Showers Likely', 'detailedForecast': 'Rain showers likely. Cloudy, with a low around 58. Chance of precipitation is 60%. New rainfall amounts between a tenth and quarter of an inch possible.'}, {'number': 7, 'name': 'Thursday', 'startTime': '2025-05-29T06:00:00-04:00', 'endTime': '2025-05-29T18:00:00-04:00', 'isDaytime': True, 'temperature': 72, 'temperatureUnit': 'F', 'temperatureTrend': '', 'probabilityOfPrecipitation': {'unitCode': 'wmoUnit:percent', 'value': 59}, 'windSpeed': '9 mph', 'windDirection': 'SE', 'icon': 'https://api.weather.gov/icons/land/day/rain_showers,60/tsra,50?size=medium', 'shortForecast': 'Rain Showers Likely', 'detailedForecast': 'Rain showers likely before 2pm, then a chance of showers and thunderstorms. Mostly cloudy, with a high near 72. Chance of precipitation is 60%.'}, {'number': 8, 'name': 'Thursday Night', 'startTime': '2025-05-29T18:00:00-04:00', 'endTime': '2025-05-30T06:00:00-04:00', 'isDaytime': False, 'temperature': 61, 'temperatureUnit': 'F', 'temperatureTrend': '', 'probabilityOfPrecipitation': {'unitCode': 'wmoUnit:percent', 'value': 43}, 'windSpeed': '8 mph', 'windDirection': 'SW', 'icon': 'https://api.weather.gov/icons/land/night/tsra_sct,40?size=medium', 'shortForecast': 'Chance Showers And Thunderstorms', 'detailedForecast': 'A chance of showers and thunderstorms before 8pm, then a chance of showers and thunderstorms. Mostly cloudy, with a low around 61. Chance of precipitation is 40%.'}, {'number': 9, 'name': 'Friday', 'startTime': '2025-05-30T06:00:00-04:00', 'endTime': '2025-05-30T18:00:00-04:00', 'isDaytime': True, 'temperature': 76, 'temperatureUnit': 'F', 'temperatureTrend': '', 'probabilityOfPrecipitation': {'unitCode': 'wmoUnit:percent', 'value': 24}, 'windSpeed': '6 to 13 mph', 'windDirection': 'W', 'icon': 'https://api.weather.gov/icons/land/day/rain_showers,20?size=medium', 'shortForecast': 'Slight Chance Rain Showers', 'detailedForecast': 'A slight chance of rain showers. Partly sunny, with a high near 76.'}, {'number': 10, 'name': 'Friday Night', 'startTime': '2025-05-30T18:00:00-04:00', 'endTime': '2025-05-31T06:00:00-04:00', 'isDaytime': False, 'temperature': 62, 'temperatureUnit': 'F', 'temperatureTrend': '', 'probabilityOfPrecipitation': {'unitCode': 'wmoUnit:percent', 'value': 21}, 'windSpeed': '7 to 12 mph', 'windDirection': 'SW', 'icon': 'https://api.weather.gov/icons/land/night/rain_showers,20?size=medium', 'shortForecast': 'Slight Chance Rain Showers', 'detailedForecast': 'A slight chance of rain showers. Mostly cloudy, with a low around 62.'}, {'number': 11, 'name': 'Saturday', 'startTime': '2025-05-31T06:00:00-04:00', 'endTime': '2025-05-31T18:00:00-04:00', 'isDaytime': True, 'temperature': 76, 'temperatureUnit': 'F', 'temperatureTrend': '', 'probabilityOfPrecipitation': {'unitCode': 'wmoUnit:percent', 'value': 48}, 'windSpeed': '8 to 13 mph', 'windDirection': 'W', 'icon': 'https://api.weather.gov/icons/land/day/rain_showers,40/tsra_hi,50?size=medium', 'shortForecast': 'Chance Rain Showers', 'detailedForecast': 'A chance of rain showers before 2pm, then a chance of showers and thunderstorms. Partly sunny, with a high near 76. Chance of precipitation is 50%.'}, {'number': 12, 'name': 'Saturday Night', 'startTime': '2025-05-31T18:00:00-04:00', 'endTime': '2025-06-01T06:00:00-04:00', 'isDaytime': False, 'temperature': 58, 'temperatureUnit': 'F', 'temperatureTrend': '', 'probabilityOfPrecipitation': {'unitCode': 'wmoUnit:percent', 'value': 48}, 'windSpeed': '7 to 10 mph', 'windDirection': 'W', 'icon': 'https://api.weather.gov/icons/land/night/tsra_hi,50/tsra_hi,20?size=medium', 'shortForecast': 'Chance Showers And Thunderstorms', 'detailedForecast': 'A chance of showers and thunderstorms. Partly cloudy, with a low around 58. Chance of precipitation is 50%.'}, {'number': 13, 'name': 'Sunday', 'startTime': '2025-06-01T06:00:00-04:00', 'endTime': '2025-06-01T18:00:00-04:00', 'isDaytime': True, 'temperature': 75, 'temperatureUnit': 'F', 'temperatureTrend': '', 'probabilityOfPrecipitation': {'unitCode': 'wmoUnit:percent', 'value': 22}, 'windSpeed': '8 to 13 mph', 'windDirection': 'SW', 'icon': 'https://api.weather.gov/icons/land/day/rain_showers,20?size=medium', 'shortForecast': 'Slight Chance Rain Showers', 'detailedForecast': 'A slight chance of rain showers. Partly sunny, with a high near 75.'}, {'number': 14, 'name': 'Sunday Night', 'startTime': '2025-06-01T18:00:00-04:00', 'endTime': '2025-06-02T06:00:00-04:00', 'isDaytime': False, 'temperature': 60, 'temperatureUnit': 'F', 'temperatureTrend': '', 'probabilityOfPrecipitation': {'unitCode': 'wmoUnit:percent', 'value': 22}, 'windSpeed': '7 to 10 mph', 'windDirection': 'W', 'icon': 'https://api.weather.gov/icons/land/night/rain_showers,20?size=medium', 'shortForecast': 'Slight Chance Rain Showers', 'detailedForecast': 'A slight chance of rain showers before 2am. Partly cloudy, with a low around 60.'}]\n"
     ]
    }
   ],
   "source": [
    "print(forecast[\"properties\"][\"periods\"])"
   ]
  },
  {
   "cell_type": "code",
   "execution_count": 4,
   "id": "44cc4667",
   "metadata": {},
   "outputs": [
    {
     "data": {
      "text/html": [
       "<div>\n",
       "<style scoped>\n",
       "    .dataframe tbody tr th:only-of-type {\n",
       "        vertical-align: middle;\n",
       "    }\n",
       "\n",
       "    .dataframe tbody tr th {\n",
       "        vertical-align: top;\n",
       "    }\n",
       "\n",
       "    .dataframe thead th {\n",
       "        text-align: right;\n",
       "    }\n",
       "</style>\n",
       "<table border=\"1\" class=\"dataframe\">\n",
       "  <thead>\n",
       "    <tr style=\"text-align: right;\">\n",
       "      <th></th>\n",
       "      <th>endTime</th>\n",
       "      <th>isDaytime</th>\n",
       "      <th>temperature</th>\n",
       "      <th>windSpeed</th>\n",
       "    </tr>\n",
       "  </thead>\n",
       "  <tbody>\n",
       "    <tr>\n",
       "      <th>0</th>\n",
       "      <td>2025-05-26T18:00:00-04:00</td>\n",
       "      <td>True</td>\n",
       "      <td>73</td>\n",
       "      <td>5 mph</td>\n",
       "    </tr>\n",
       "    <tr>\n",
       "      <th>1</th>\n",
       "      <td>2025-05-27T06:00:00-04:00</td>\n",
       "      <td>False</td>\n",
       "      <td>56</td>\n",
       "      <td>3 mph</td>\n",
       "    </tr>\n",
       "    <tr>\n",
       "      <th>2</th>\n",
       "      <td>2025-05-27T18:00:00-04:00</td>\n",
       "      <td>True</td>\n",
       "      <td>74</td>\n",
       "      <td>2 to 9 mph</td>\n",
       "    </tr>\n",
       "    <tr>\n",
       "      <th>3</th>\n",
       "      <td>2025-05-28T06:00:00-04:00</td>\n",
       "      <td>False</td>\n",
       "      <td>57</td>\n",
       "      <td>3 to 9 mph</td>\n",
       "    </tr>\n",
       "    <tr>\n",
       "      <th>4</th>\n",
       "      <td>2025-05-28T18:00:00-04:00</td>\n",
       "      <td>True</td>\n",
       "      <td>65</td>\n",
       "      <td>3 to 10 mph</td>\n",
       "    </tr>\n",
       "  </tbody>\n",
       "</table>\n",
       "</div>"
      ],
      "text/plain": [
       "                     endTime  isDaytime  temperature    windSpeed\n",
       "0  2025-05-26T18:00:00-04:00       True           73        5 mph\n",
       "1  2025-05-27T06:00:00-04:00      False           56        3 mph\n",
       "2  2025-05-27T18:00:00-04:00       True           74   2 to 9 mph\n",
       "3  2025-05-28T06:00:00-04:00      False           57   3 to 9 mph\n",
       "4  2025-05-28T18:00:00-04:00       True           65  3 to 10 mph"
      ]
     },
     "execution_count": 4,
     "metadata": {},
     "output_type": "execute_result"
    }
   ],
   "source": [
    "import pandas as pd\n",
    "\n",
    "forecast_df = pd.DataFrame(forecast[\"properties\"][\"periods\"])\n",
    "forecast_df[\n",
    "    [\"endTime\", \"isDaytime\", \"temperature\", \"windSpeed\"]\n",
    "].head()"
   ]
  },
  {
   "cell_type": "code",
   "execution_count": 5,
   "id": "b6ed206b",
   "metadata": {},
   "outputs": [
    {
     "data": {
      "text/html": [
       "<div>\n",
       "<style scoped>\n",
       "    .dataframe tbody tr th:only-of-type {\n",
       "        vertical-align: middle;\n",
       "    }\n",
       "\n",
       "    .dataframe tbody tr th {\n",
       "        vertical-align: top;\n",
       "    }\n",
       "\n",
       "    .dataframe thead th {\n",
       "        text-align: right;\n",
       "    }\n",
       "</style>\n",
       "<table border=\"1\" class=\"dataframe\">\n",
       "  <thead>\n",
       "    <tr style=\"text-align: right;\">\n",
       "      <th></th>\n",
       "      <th>date</th>\n",
       "      <th>temperature</th>\n",
       "      <th>wind_speed</th>\n",
       "    </tr>\n",
       "  </thead>\n",
       "  <tbody>\n",
       "    <tr>\n",
       "      <th>0</th>\n",
       "      <td>2025-05-26</td>\n",
       "      <td>73</td>\n",
       "      <td>5</td>\n",
       "    </tr>\n",
       "    <tr>\n",
       "      <th>1</th>\n",
       "      <td>2025-05-27</td>\n",
       "      <td>56</td>\n",
       "      <td>3</td>\n",
       "    </tr>\n",
       "    <tr>\n",
       "      <th>2</th>\n",
       "      <td>2025-05-27</td>\n",
       "      <td>74</td>\n",
       "      <td>9</td>\n",
       "    </tr>\n",
       "    <tr>\n",
       "      <th>3</th>\n",
       "      <td>2025-05-28</td>\n",
       "      <td>57</td>\n",
       "      <td>9</td>\n",
       "    </tr>\n",
       "    <tr>\n",
       "      <th>4</th>\n",
       "      <td>2025-05-28</td>\n",
       "      <td>65</td>\n",
       "      <td>10</td>\n",
       "    </tr>\n",
       "  </tbody>\n",
       "</table>\n",
       "</div>"
      ],
      "text/plain": [
       "         date  temperature  wind_speed\n",
       "0  2025-05-26           73           5\n",
       "1  2025-05-27           56           3\n",
       "2  2025-05-27           74           9\n",
       "3  2025-05-28           57           9\n",
       "4  2025-05-28           65          10"
      ]
     },
     "execution_count": 5,
     "metadata": {},
     "output_type": "execute_result"
    }
   ],
   "source": [
    "import re\n",
    "\n",
    "def get_wind_speed(row):\n",
    "    numbers = [int(num) for num in re.findall(r'\\d+', row)]\n",
    "    return max(numbers)\n",
    "\n",
    "forecast_df[\"date\"] = pd.to_datetime(forecast_df['endTime']).dt.date\n",
    "\n",
    "forecast_df[\"wind_speed\"] = forecast_df[\"windSpeed\"].apply(\n",
    "    get_wind_speed\n",
    ")  # D\n",
    "\n",
    "forecast_df[[\"date\", \"temperature\", \"wind_speed\"]].head() "
   ]
  },
  {
   "cell_type": "code",
   "execution_count": 6,
   "id": "aaad4eb1",
   "metadata": {},
   "outputs": [
    {
     "data": {
      "text/html": [
       "<div>\n",
       "<style scoped>\n",
       "    .dataframe tbody tr th:only-of-type {\n",
       "        vertical-align: middle;\n",
       "    }\n",
       "\n",
       "    .dataframe tbody tr th {\n",
       "        vertical-align: top;\n",
       "    }\n",
       "\n",
       "    .dataframe thead th {\n",
       "        text-align: right;\n",
       "    }\n",
       "</style>\n",
       "<table border=\"1\" class=\"dataframe\">\n",
       "  <thead>\n",
       "    <tr style=\"text-align: right;\">\n",
       "      <th></th>\n",
       "      <th>date</th>\n",
       "      <th>low_temp</th>\n",
       "      <th>high_temp</th>\n",
       "      <th>wind_speed</th>\n",
       "    </tr>\n",
       "  </thead>\n",
       "  <tbody>\n",
       "    <tr>\n",
       "      <th>0</th>\n",
       "      <td>2025-05-26</td>\n",
       "      <td>73</td>\n",
       "      <td>73</td>\n",
       "      <td>5</td>\n",
       "    </tr>\n",
       "    <tr>\n",
       "      <th>1</th>\n",
       "      <td>2025-05-27</td>\n",
       "      <td>56</td>\n",
       "      <td>74</td>\n",
       "      <td>9</td>\n",
       "    </tr>\n",
       "    <tr>\n",
       "      <th>2</th>\n",
       "      <td>2025-05-28</td>\n",
       "      <td>57</td>\n",
       "      <td>65</td>\n",
       "      <td>10</td>\n",
       "    </tr>\n",
       "    <tr>\n",
       "      <th>3</th>\n",
       "      <td>2025-05-29</td>\n",
       "      <td>58</td>\n",
       "      <td>72</td>\n",
       "      <td>10</td>\n",
       "    </tr>\n",
       "    <tr>\n",
       "      <th>4</th>\n",
       "      <td>2025-05-30</td>\n",
       "      <td>61</td>\n",
       "      <td>76</td>\n",
       "      <td>13</td>\n",
       "    </tr>\n",
       "  </tbody>\n",
       "</table>\n",
       "</div>"
      ],
      "text/plain": [
       "         date  low_temp  high_temp  wind_speed\n",
       "0  2025-05-26        73         73           5\n",
       "1  2025-05-27        56         74           9\n",
       "2  2025-05-28        57         65          10\n",
       "3  2025-05-29        58         72          10\n",
       "4  2025-05-30        61         76          13"
      ]
     },
     "execution_count": 6,
     "metadata": {},
     "output_type": "execute_result"
    }
   ],
   "source": [
    "daily_forecast = (\n",
    "    forecast_df.groupby(\"date\")\n",
    "    .agg({\n",
    "        \"temperature\": [\"min\", \"max\"],\n",
    "        \"wind_speed\": \"max\"})\n",
    "    .reset_index()\n",
    ")\n",
    "\n",
    "daily_forecast.columns = [\n",
    "\"date\", \"low_temp\", \"high_temp\", \"wind_speed\"\n",
    "]\n",
    "\n",
    "daily_forecast.head() "
   ]
  },
  {
   "cell_type": "code",
   "execution_count": null,
   "id": "387b8f05",
   "metadata": {},
   "outputs": [],
   "source": []
  }
 ],
 "metadata": {
  "kernelspec": {
   "display_name": ".venv",
   "language": "python",
   "name": "python3"
  },
  "language_info": {
   "codemirror_mode": {
    "name": "ipython",
    "version": 3
   },
   "file_extension": ".py",
   "mimetype": "text/x-python",
   "name": "python",
   "nbconvert_exporter": "python",
   "pygments_lexer": "ipython3",
   "version": "3.13.2"
  }
 },
 "nbformat": 4,
 "nbformat_minor": 5
}
