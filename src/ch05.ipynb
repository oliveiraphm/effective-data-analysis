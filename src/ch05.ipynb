{
 "cells": [
  {
   "cell_type": "markdown",
   "id": "9aa00c34",
   "metadata": {},
   "source": [
    "5.2.1"
   ]
  },
  {
   "cell_type": "code",
   "execution_count": 1,
   "id": "26d5db63",
   "metadata": {},
   "outputs": [],
   "source": [
    "import numpy as np\n",
    "from scipy.stats import skewnorm, kruskal, mannwhitneyu"
   ]
  },
  {
   "cell_type": "code",
   "execution_count": 2,
   "id": "6ca0e6b4",
   "metadata": {},
   "outputs": [
    {
     "name": "stdout",
     "output_type": "stream",
     "text": [
      "Kruskal-Wallis Test, H=16.03739696339062, p=6.210361918022316e-05\n",
      "Mann-Whitney U-test, U=6515.0, p=6.243023806252358e-05\n"
     ]
    }
   ],
   "source": [
    "np.random.seed(99)\n",
    "\n",
    "group_a = skewnorm.rvs(a=9, scale=2.2, size=99) + 4.5\n",
    "group_b = skewnorm.rvs(a=11, scale=1, size=99) + 4.6\n",
    "\n",
    "H = kruskal(group_a, group_b)\n",
    "U = mannwhitneyu(group_a, group_b)\n",
    "\n",
    "print(f\"Kruskal-Wallis Test, H={H[0]}, p={H[1]}\")\n",
    "print(f\"Mann-Whitney U-test, U={U[0]}, p={U[1]}\")"
   ]
  },
  {
   "cell_type": "code",
   "execution_count": 1,
   "id": "9fe1e3d1",
   "metadata": {},
   "outputs": [
    {
     "name": "stdout",
     "output_type": "stream",
     "text": [
      "Kruskall-Wallis Test, H=3.3283051314115255, p=0.06809701406173653\n",
      "          1         2         3\n",
      "1  1.000000  0.230991  0.494148\n",
      "2  0.230991  1.000000  1.000000\n",
      "3  0.494148  1.000000  1.000000\n"
     ]
    }
   ],
   "source": [
    "import numpy as np\n",
    "from scipy import stats as st\n",
    "import scikit_posthocs as sp\n",
    "\n",
    "np.random.seed(99)\n",
    "\n",
    "group_a = st.skewnorm.rvs(a=9, scale=2.2, size=99) + 4.6\n",
    "group_b = st.skewnorm.rvs(a=11, scale=1.5, size=99) + 4.6\n",
    "group_c = st.skewnorm.rvs(a=9.1, scale=2.0, size=99) + 4.6\n",
    "\n",
    "\n",
    "data = [group_a, group_b, group_c]\n",
    "H = st.kruskal(group_a, group_b)\n",
    "post_hoc = sp.posthoc_dunn(data, p_adjust=\"bonferroni\")\n",
    "\n",
    "print(f\"Kruskall-Wallis Test, H={H[0]}, p={H[1]}\")\n",
    "print(post_hoc)"
   ]
  },
  {
   "cell_type": "markdown",
   "id": "e9af5f48",
   "metadata": {},
   "source": [
    "5.2.2"
   ]
  },
  {
   "cell_type": "code",
   "execution_count": 6,
   "id": "18ffaa11",
   "metadata": {},
   "outputs": [
    {
     "name": "stdout",
     "output_type": "stream",
     "text": [
      "Chi-square value: 6.73\n",
      "p-value: 0.875\n",
      "Expected Frequencies:\n",
      " [[ 442.61  440.88  425.28  424.24 1733.  ]\n",
      " [ 392.55  391.01  377.18  376.26 1537.  ]\n",
      " [ 441.84  440.11  424.54  423.5  1730.  ]\n",
      " [1277.   1272.   1227.   1224.   5000.  ]]\n"
     ]
    }
   ],
   "source": [
    "import pandas as pd\n",
    "import scipy.stats as st\n",
    "\n",
    "assignments = pd.read_csv(\"../datasets/assignments.csv\", index_col=\"recommender\")\n",
    "\n",
    "chi_sq = st.chi2_contingency(assignments)\n",
    "\n",
    "print(f\"Chi-square value: {chi_sq[0].round(3)}\")\n",
    "print(f\"p-value: {chi_sq[1].round(3)}\")\n",
    "print(f\"Expected Frequencies:\\n {chi_sq[3].round(2)}\")"
   ]
  },
  {
   "cell_type": "code",
   "execution_count": 7,
   "id": "1d497f6f",
   "metadata": {},
   "outputs": [
    {
     "name": "stdout",
     "output_type": "stream",
     "text": [
      "             Canada  England  France  United States    Total\n",
      "recommender                                                 \n",
      "A            107.73   115.00  114.48         112.67   449.89\n",
      "B            102.54    99.95   94.75         101.76   399.01\n",
      "C            121.23   115.26  109.29         103.32   449.11\n",
      "Total        331.51   330.21  318.53         317.75  1298.00\n"
     ]
    }
   ],
   "source": [
    "expected = assignments * .2596\n",
    "print(expected.round(2))"
   ]
  },
  {
   "cell_type": "code",
   "execution_count": 8,
   "id": "29f868ac",
   "metadata": {},
   "outputs": [
    {
     "name": "stdout",
     "output_type": "stream",
     "text": [
      "Chi-square value: 22.994\n",
      "p-value: 0.028\n"
     ]
    }
   ],
   "source": [
    "clicked = pd.read_csv(\"../datasets/clicked.csv\", index_col=\"recommender\")\n",
    "\n",
    "chi_sq = st.chi2_contingency(clicked, expected)\n",
    "\n",
    "print(f\"Chi-square value: {chi_sq[0].round(3)}\")\n",
    "print(f\"p-value: {chi_sq[1].round(3)}\")\n"
   ]
  },
  {
   "cell_type": "code",
   "execution_count": 9,
   "id": "354f68c8",
   "metadata": {},
   "outputs": [
    {
     "data": {
      "text/plain": [
       "Text(50.722222222222214, 0.5, 'Recommender Version')"
      ]
     },
     "execution_count": 9,
     "metadata": {},
     "output_type": "execute_result"
    },
    {
     "data": {
      "image/png": "[encoded data removed]",
      "text/plain": [
       "<Figure size 640x480 with 1 Axes>"
      ]
     },
     "metadata": {},
     "output_type": "display_data"
    }
   ],
   "source": [
    "import seaborn as sns\n",
    "from operator import sub\n",
    "import matplotlib.pyplot as plt\n",
    "\n",
    "diffs = list(map(sub, clicked.values, expected.values))\n",
    "diffs = pd.DataFrame(\n",
    "    diffs, \n",
    "    columns = assignments.columns,\n",
    "    index = assignments.index,\n",
    ")\n",
    "sns.heatmap(\n",
    "    diffs.iloc[:-1, :-1],\n",
    "    cmap=\"vlag\",\n",
    "    annot=True,\n",
    "    cbar=False,\n",
    ")\n",
    "plt.xlabel(\"\")\n",
    "plt.ylabel(\"Recommender Version\")"
   ]
  },
  {
   "cell_type": "code",
   "execution_count": 10,
   "id": "0efc0580",
   "metadata": {},
   "outputs": [
    {
     "data": {
      "text/html": [
       "<div>\n",
       "<style scoped>\n",
       "    .dataframe tbody tr th:only-of-type {\n",
       "        vertical-align: middle;\n",
       "    }\n",
       "\n",
       "    .dataframe tbody tr th {\n",
       "        vertical-align: top;\n",
       "    }\n",
       "\n",
       "    .dataframe thead th {\n",
       "        text-align: right;\n",
       "    }\n",
       "</style>\n",
       "<table border=\"1\" class=\"dataframe\">\n",
       "  <thead>\n",
       "    <tr style=\"text-align: right;\">\n",
       "      <th>recommender</th>\n",
       "      <th>A</th>\n",
       "      <th>B</th>\n",
       "      <th>C</th>\n",
       "      <th>Total</th>\n",
       "    </tr>\n",
       "  </thead>\n",
       "  <tbody>\n",
       "    <tr>\n",
       "      <th>Canada</th>\n",
       "      <td>117</td>\n",
       "      <td>82</td>\n",
       "      <td>113</td>\n",
       "      <td>312</td>\n",
       "    </tr>\n",
       "    <tr>\n",
       "      <th>England</th>\n",
       "      <td>131</td>\n",
       "      <td>76</td>\n",
       "      <td>120</td>\n",
       "      <td>327</td>\n",
       "    </tr>\n",
       "    <tr>\n",
       "      <th>France</th>\n",
       "      <td>119</td>\n",
       "      <td>77</td>\n",
       "      <td>133</td>\n",
       "      <td>329</td>\n",
       "    </tr>\n",
       "    <tr>\n",
       "      <th>United States</th>\n",
       "      <td>80</td>\n",
       "      <td>105</td>\n",
       "      <td>143</td>\n",
       "      <td>328</td>\n",
       "    </tr>\n",
       "    <tr>\n",
       "      <th>Total</th>\n",
       "      <td>447</td>\n",
       "      <td>340</td>\n",
       "      <td>509</td>\n",
       "      <td>1296</td>\n",
       "    </tr>\n",
       "  </tbody>\n",
       "</table>\n",
       "</div>"
      ],
      "text/plain": [
       "recommender      A    B    C  Total\n",
       "Canada         117   82  113    312\n",
       "England        131   76  120    327\n",
       "France         119   77  133    329\n",
       "United States   80  105  143    328\n",
       "Total          447  340  509   1296"
      ]
     },
     "execution_count": 10,
     "metadata": {},
     "output_type": "execute_result"
    }
   ],
   "source": [
    "clicked.T"
   ]
  },
  {
   "cell_type": "code",
   "execution_count": 12,
   "id": "7d2d41b5",
   "metadata": {},
   "outputs": [
    {
     "name": "stdout",
     "output_type": "stream",
     "text": [
      "('A', 'B') , Chi-square = 18.95 , p= 0.001\n",
      "('A', 'C') , Chi-square = 15.171 , p= 0.004\n",
      "('B', 'C') , Chi-square = 2.0 , p= 0.736\n"
     ]
    }
   ],
   "source": [
    "from itertools import combinations\n",
    "\n",
    "pairs = list(combinations(assignments.iloc[:-1, :-1].index, 2))\n",
    "chisq_values = []\n",
    "p_values = []\n",
    "\n",
    "for p in pairs:\n",
    "    c = clicked[(clicked.index == p[0]) | (clicked.index == p[1])]\n",
    "    chi2, pv, dof, exp = st.chi2_contingency(c, correction=True)\n",
    "    chisq_values.append(chi2)\n",
    "    p_values.append(pv)\n",
    "    print(p, \", Chi-square =\", chi2.round(3), \", p=\", pv.round(3))"
   ]
  },
  {
   "cell_type": "markdown",
   "id": "f9d8ede8",
   "metadata": {},
   "source": [
    "5.3"
   ]
  },
  {
   "cell_type": "code",
   "execution_count": 16,
   "id": "e01f2a95",
   "metadata": {},
   "outputs": [
    {
     "data": {
      "text/plain": [
       "<matplotlib.lines.Line2D at 0x29ca09c6990>"
      ]
     },
     "execution_count": 16,
     "metadata": {},
     "output_type": "execute_result"
    },
    {
     "data": {
      "image/png": "[encoded data removed]",
      "text/plain": [
       "<Figure size 640x480 with 1 Axes>"
      ]
     },
     "metadata": {},
     "output_type": "display_data"
    }
   ],
   "source": [
    "import numpy as np\n",
    "from scipy import stats as st\n",
    "import matplotlib.pyplot as plt\n",
    "\n",
    "np.random.seed(99)\n",
    "\n",
    "X1 = np.random.normal(loc=75.5, scale=6.2, size=500)\n",
    "X2 = np.random.normal(loc=76.2, scale=6.5, size=500)\n",
    "\n",
    "def t_stat(X1, X2):\n",
    "    return st.ttest_ind(X1, X2)[0]\n",
    "\n",
    "result = st.bootstrap(\n",
    "    (X1, X2),\n",
    "    t_stat,\n",
    "    n_resamples=1000,\n",
    "    batch=50,\n",
    "    method=\"basic\",\n",
    "    vectorized=False,\n",
    "    random_state=99,\n",
    ")\n",
    "\n",
    "t_crit = -st.t.ppf(q=0.95, df=49)\n",
    "\n",
    "plt.hist(result.bootstrap_distribution, bins=25)\n",
    "plt.axvline(t_crit, color=\"black\", linestyle=\"dashed\")"
   ]
  },
  {
   "cell_type": "markdown",
   "id": "7ab3f899",
   "metadata": {},
   "source": [
    "Activity 1"
   ]
  },
  {
   "cell_type": "code",
   "execution_count": 3,
   "id": "09fb36ee",
   "metadata": {},
   "outputs": [],
   "source": [
    "import numpy as np\n",
    "from scipy import stats as st\n",
    "\n",
    "np.random.seed(99)\n",
    "\n",
    "x_a = np.random.normal(loc=47, scale=4, size=55)\n",
    "x_b = np.random.normal(loc=53, scale=4, size=65)\n",
    "\n",
    "X1 = np.concatenate([x_a, x_b])\n",
    "X2 = st.skewnorm.rvs(83, size=120) + 51\n",
    "X3 = np.random.exponential(scale=10, size=79) + 44\n",
    "\n"
   ]
  },
  {
   "cell_type": "code",
   "execution_count": 4,
   "id": "a4d116e8",
   "metadata": {},
   "outputs": [
    {
     "name": "stdout",
     "output_type": "stream",
     "text": [
      "KruskalResult(statistic=np.float64(5.8782865139279465), pvalue=np.float64(0.052911040490784))\n"
     ]
    }
   ],
   "source": [
    "H = st.kruskal(X1, X2, X3)\n",
    "print(H)"
   ]
  },
  {
   "cell_type": "code",
   "execution_count": null,
   "id": "2f4c6b5d",
   "metadata": {},
   "outputs": [],
   "source": []
  }
 ],
 "metadata": {
  "kernelspec": {
   "display_name": ".venv",
   "language": "python",
   "name": "python3"
  },
  "language_info": {
   "codemirror_mode": {
    "name": "ipython",
    "version": 3
   },
   "file_extension": ".py",
   "mimetype": "text/x-python",
   "name": "python",
   "nbconvert_exporter": "python",
   "pygments_lexer": "ipython3",
   "version": "3.13.2"
  }
 },
 "nbformat": 4,
 "nbformat_minor": 5
}
