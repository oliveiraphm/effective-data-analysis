{
 "cells": [
  {
   "cell_type": "markdown",
   "id": "9aa00c34",
   "metadata": {},
   "source": [
    "5.2.1"
   ]
  },
  {
   "cell_type": "code",
   "execution_count": 1,
   "id": "26d5db63",
   "metadata": {},
   "outputs": [],
   "source": [
    "import numpy as np\n",
    "from scipy.stats import skewnorm, kruskal, mannwhitneyu"
   ]
  },
  {
   "cell_type": "code",
   "execution_count": 2,
   "id": "6ca0e6b4",
   "metadata": {},
   "outputs": [
    {
     "name": "stdout",
     "output_type": "stream",
     "text": [
      "Kruskal-Wallis Test, H=16.03739696339062, p=6.210361918022316e-05\n",
      "Mann-Whitney U-test, U=6515.0, p=6.243023806252358e-05\n"
     ]
    }
   ],
   "source": [
    "np.random.seed(99)\n",
    "\n",
    "group_a = skewnorm.rvs(a=9, scale=2.2, size=99) + 4.5\n",
    "group_b = skewnorm.rvs(a=11, scale=1, size=99) + 4.6\n",
    "\n",
    "H = kruskal(group_a, group_b)\n",
    "U = mannwhitneyu(group_a, group_b)\n",
    "\n",
    "print(f\"Kruskal-Wallis Test, H={H[0]}, p={H[1]}\")\n",
    "print(f\"Mann-Whitney U-test, U={U[0]}, p={U[1]}\")"
   ]
  },
  {
   "cell_type": "code",
   "execution_count": 1,
   "id": "9fe1e3d1",
   "metadata": {},
   "outputs": [
    {
     "name": "stdout",
     "output_type": "stream",
     "text": [
      "Kruskall-Wallis Test, H=3.3283051314115255, p=0.06809701406173653\n",
      "          1         2         3\n",
      "1  1.000000  0.230991  0.494148\n",
      "2  0.230991  1.000000  1.000000\n",
      "3  0.494148  1.000000  1.000000\n"
     ]
    }
   ],
   "source": [
    "import numpy as np\n",
    "from scipy import stats as st\n",
    "import scikit_posthocs as sp\n",
    "\n",
    "np.random.seed(99)\n",
    "\n",
    "group_a = st.skewnorm.rvs(a=9, scale=2.2, size=99) + 4.6\n",
    "group_b = st.skewnorm.rvs(a=11, scale=1.5, size=99) + 4.6\n",
    "group_c = st.skewnorm.rvs(a=9.1, scale=2.0, size=99) + 4.6\n",
    "\n",
    "\n",
    "data = [group_a, group_b, group_c]\n",
    "H = st.kruskal(group_a, group_b)\n",
    "post_hoc = sp.posthoc_dunn(data, p_adjust=\"bonferroni\")\n",
    "\n",
    "print(f\"Kruskall-Wallis Test, H={H[0]}, p={H[1]}\")\n",
    "print(post_hoc)"
   ]
  },
  {
   "cell_type": "code",
   "execution_count": null,
   "id": "7ab3f899",
   "metadata": {},
   "outputs": [],
   "source": []
  }
 ],
 "metadata": {
  "kernelspec": {
   "display_name": ".venv",
   "language": "python",
   "name": "python3"
  },
  "language_info": {
   "codemirror_mode": {
    "name": "ipython",
    "version": 3
   },
   "file_extension": ".py",
   "mimetype": "text/x-python",
   "name": "python",
   "nbconvert_exporter": "python",
   "pygments_lexer": "ipython3",
   "version": "3.13.2"
  }
 },
 "nbformat": 4,
 "nbformat_minor": 5
}
